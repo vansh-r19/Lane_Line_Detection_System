{
 "cells": [
  {
   "cell_type": "code",
   "execution_count": 1,
   "metadata": {},
   "outputs": [
    {
     "name": "stdout",
     "output_type": "stream",
     "text": [
      "importing Jupyter notebook from Lane_Detection.ipynb\n"
     ]
    }
   ],
   "source": [
    "#importing necessary libraries\n",
    "import time\n",
    "import matplotlib.pylab as plt\n",
    "from tensorflow.keras.models import load_model\n",
    "import cv2\n",
    "import numpy as np\n",
    "import tkinter as tk\n",
    "from PIL import Image, ImageTk\n",
    "from tkinter.filedialog import askopenfile\n",
    "import import_ipynb\n",
    "from Lane_Detection import LaneDetection\n",
    "from tkinter import *\n",
    "from PIL import ImageTk, Image\n",
    "from tkinter.filedialog import askopenfile"
   ]
  },
  {
   "cell_type": "code",
   "execution_count": 2,
   "metadata": {},
   "outputs": [],
   "source": [
    "obj = LaneDetection()"
   ]
  },
  {
   "cell_type": "code",
   "execution_count": 3,
   "metadata": {},
   "outputs": [],
   "source": [
    "def back(vid):\n",
    "    vid.destroy()\n",
    "    main()\n",
    "    "
   ]
  },
  {
   "cell_type": "code",
   "execution_count": 4,
   "metadata": {},
   "outputs": [],
   "source": [
    "def open_file(root):\n",
    "    \n",
    "    \n",
    "    file = askopenfile(parent=root, mode='r', title=\"Choose a file\", filetypes=[(\"Video file\", \"*.mp4\")])\n",
    "    path = file.name\n",
    "    \n",
    "    cap = cv2.VideoCapture(path)\n",
    "    \n",
    "    root.destroy()\n",
    "    vid = Tk()\n",
    "    vid.title('Lane Line Detection')\n",
    "    vid.geometry('800x720')\n",
    "    \n",
    "    \n",
    "    \n",
    "#     bg = PhotoImage(file=\"background.jpeg\")\n",
    "\n",
    "    #create a label\n",
    "    my_label = Label(vid)\n",
    "    my_label.place(x=0,y=0, relwidth=1, relheight=1)\n",
    "\n",
    "    \n",
    "    # Create a label in the frame\n",
    "    lmain = Label(vid)\n",
    "    lmain.place(x=242, y=242)\n",
    "    \n",
    "    back_btn = Button(vid, text = \"BACK\",command = lambda :back(vid), font=\"Raleway\", bg=\"#e39610\", fg=\"black\", height=2, width=15)\n",
    "    back_btn.place(x=310, y=600)\n",
    "    \n",
    "    def rec():\n",
    "        img = obj.stream_vid(cap)\n",
    "        img = Image.fromarray(img)\n",
    "        imgtk = ImageTk.PhotoImage(image=img)\n",
    "        lmain.imgtk = imgtk\n",
    "        lmain.configure(image=imgtk)\n",
    "        lmain.after(1, rec)\n",
    "    \n",
    "    rec()\n",
    "    vid.mainloop()\n",
    "    cap.release()"
   ]
  },
  {
   "cell_type": "code",
   "execution_count": 5,
   "metadata": {},
   "outputs": [],
   "source": [
    "def main():\n",
    "    \n",
    "    root = Tk()\n",
    "    root.title('Lane Line Detection')\n",
    "    root.geometry(\"800x720\")\n",
    "\n",
    "#     bg = PhotoImage(file=\"background.jpeg\")\n",
    "\n",
    "    #create a label\n",
    "    my_label = Label(root)\n",
    "    my_label.place(x=0,y=0, relwidth=1, relheight=1)\n",
    "\n",
    "\n",
    "\n",
    "    browse_text1 = StringVar()\n",
    "    browse_btn1 = Button(root, textvariable=browse_text1, command = lambda :open_file(root), font=\"Raleway\", bg=\"#e39610\", fg=\"black\", height=2, width=15)\n",
    "    browse_text1.set(\"UPLOAD VIDEO\")\n",
    "    browse_btn1.place(x=310, y=500)\n",
    "\n",
    "\n",
    "    \n",
    "    root.mainloop()"
   ]
  },
  {
   "cell_type": "code",
   "execution_count": 7,
   "metadata": {
    "scrolled": true
   },
   "outputs": [],
   "source": [
    "main()"
   ]
  },
  {
   "cell_type": "code",
   "execution_count": null,
   "metadata": {},
   "outputs": [],
   "source": []
  },
  {
   "cell_type": "code",
   "execution_count": null,
   "metadata": {},
   "outputs": [],
   "source": []
  }
 ],
 "metadata": {
  "kernelspec": {
   "display_name": "Python 3",
   "language": "python",
   "name": "python3"
  },
  "language_info": {
   "codemirror_mode": {
    "name": "ipython",
    "version": 3
   },
   "file_extension": ".py",
   "mimetype": "text/x-python",
   "name": "python",
   "nbconvert_exporter": "python",
   "pygments_lexer": "ipython3",
   "version": "3.7.6"
  }
 },
 "nbformat": 4,
 "nbformat_minor": 5
}
